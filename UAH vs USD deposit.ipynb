{
 "cells": [
  {
   "cell_type": "code",
   "execution_count": 65,
   "metadata": {},
   "outputs": [
    {
     "name": "stdout",
     "output_type": "stream",
     "text": [
      "==========================================\n",
      "Uah year profit: 32400.0\n",
      "Uah profit per month: 2700.0\n",
      "==========================================\n",
      "==========================================\n",
      "Usd year profit: 250.0\n",
      "Usd profit per month: 20.833333333333332\n",
      "==========================================\n"
     ]
    },
    {
     "data": {
      "image/png": "[encoded data removed]",
      "text/plain": [
       "<Figure size 432x288 with 1 Axes>"
      ]
     },
     "metadata": {
      "needs_background": "light"
     },
     "output_type": "display_data"
    },
    {
     "data": {
      "image/png": "[encoded data removed]",
      "text/plain": [
       "<Figure size 720x360 with 2 Axes>"
      ]
     },
     "metadata": {
      "needs_background": "light"
     },
     "output_type": "display_data"
    },
    {
     "name": "stdout",
     "output_type": "stream",
     "text": [
      "[10250.0, 10506.25, 10768.906249999996, 11038.128906249995, 11314.082128906244, 11596.9341821289]\n",
      "[302400.0, 338688.00000000006, 379330.5600000001, 424850.22720000014, 475832.2544640002, 532932.1249996803]\n"
     ]
    }
   ],
   "source": [
    "import matplotlib.pyplot as plt\n",
    "import numpy as np\n",
    "\n",
    "def usd(x):\n",
    "    return (x+x)\n",
    "\n",
    "uah_price = 26\n",
    "\n",
    "uah_rate = 0.12\n",
    "uah_deposit = 270_000\n",
    "\n",
    "uah_year_profit0 = uah_deposit * (1 + uah_rate)\n",
    "uah_year_profit1 = uah_deposit * (1+uah_rate)**2\n",
    "uah_year_profit2 = uah_deposit * (1+uah_rate)**3\n",
    "uah_year_profit3 = uah_deposit * (1+uah_rate)**4\n",
    "uah_year_profit4 = uah_deposit * (1+uah_rate)**5\n",
    "uah_year_profit5 = uah_deposit * (1+uah_rate)**6\n",
    "\n",
    "print(\"==========================================\")\n",
    "print(\"Uah year profit:\",uah_deposit * uah_rate)\n",
    "print(\"Uah profit per month:\",uah_deposit * uah_rate / 12)\n",
    "print(\"==========================================\")\n",
    "\n",
    "usd_rate = 0.025\n",
    "usd_deposit = 10_000\n",
    "\n",
    "usd_year_profit0 = usd_deposit * (1 + usd_rate)\n",
    "usd_year_profit1 = usd_deposit * (1+usd_rate)**2\n",
    "usd_year_profit2 = usd_deposit * (1+usd_rate)**3\n",
    "usd_year_profit3 = usd_deposit * (1+usd_rate)**4\n",
    "usd_year_profit4 = usd_deposit * (1+usd_rate)**5\n",
    "usd_year_profit5 = usd_deposit * (1+usd_rate)**6\n",
    "\n",
    "print(\"==========================================\")\n",
    "print(\"Usd year profit:\",usd_deposit * usd_rate)\n",
    "print(\"Usd profit per month:\",usd_deposit * usd_rate / 12)\n",
    "print(\"==========================================\")\n",
    "\n",
    "usd_profit = [usd_year_profit0, usd_year_profit1,usd_year_profit2,usd_year_profit3,usd_year_profit4,usd_year_profit5]\n",
    "uah_profit = [uah_year_profit0, uah_year_profit1,uah_year_profit2,uah_year_profit3,uah_year_profit4,uah_year_profit5]\n",
    "\n",
    "usd_profit_uah = list(map(lambda x: x*uah_price, usd_profit))\n",
    "\n",
    "plt.plot(uah_profit, 'b',usd_profit_uah, 'r')\n",
    "plt.ylabel('profit in usd')\n",
    "plt.show()\n",
    "\n",
    "fig, axs = plt.subplots(1, 2, figsize=(10, 5))\n",
    "\n",
    "y_pos = np.arange(len(uah_profit))\n",
    "axs[0].bar(y_pos, uah_profit)\n",
    "\n",
    "y_pos = np.arange(len(usd_profit))\n",
    "axs[1].bar(y_pos, usd_profit)\n",
    "plt.show()\n",
    "\n",
    "print(usd_profit)\n",
    "print(uah_profit)"
   ]
  },
  {
   "cell_type": "code",
   "execution_count": null,
   "metadata": {},
   "outputs": [],
   "source": []
  },
  {
   "cell_type": "code",
   "execution_count": null,
   "metadata": {},
   "outputs": [],
   "source": []
  },
  {
   "cell_type": "code",
   "execution_count": null,
   "metadata": {},
   "outputs": [],
   "source": []
  },
  {
   "cell_type": "code",
   "execution_count": null,
   "metadata": {},
   "outputs": [],
   "source": []
  },
  {
   "cell_type": "code",
   "execution_count": null,
   "metadata": {},
   "outputs": [],
   "source": []
  },
  {
   "cell_type": "code",
   "execution_count": null,
   "metadata": {},
   "outputs": [],
   "source": []
  },
  {
   "cell_type": "code",
   "execution_count": null,
   "metadata": {},
   "outputs": [],
   "source": []
  }
 ],
 "metadata": {
  "kernelspec": {
   "display_name": "Python 3",
   "language": "python",
   "name": "python3"
  },
  "language_info": {
   "codemirror_mode": {
    "name": "ipython",
    "version": 3
   },
   "file_extension": ".py",
   "mimetype": "text/x-python",
   "name": "python",
   "nbconvert_exporter": "python",
   "pygments_lexer": "ipython3",
   "version": "3.6.7"
  }
 },
 "nbformat": 4,
 "nbformat_minor": 2
}
