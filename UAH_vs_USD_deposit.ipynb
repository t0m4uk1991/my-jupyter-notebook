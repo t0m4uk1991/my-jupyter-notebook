{
  "nbformat": 4,
  "nbformat_minor": 0,
  "metadata": {
    "kernelspec": {
      "display_name": "Python 3",
      "language": "python",
      "name": "python3"
    },
    "language_info": {
      "codemirror_mode": {
        "name": "ipython",
        "version": 3
      },
      "file_extension": ".py",
      "mimetype": "text/x-python",
      "name": "python",
      "nbconvert_exporter": "python",
      "pygments_lexer": "ipython3",
      "version": "3.6.7"
    },
    "colab": {
      "name": "Copy of UAH vs USD deposit.ipynb",
      "provenance": [],
      "collapsed_sections": [],
      "include_colab_link": true
    }
  },
  "cells": [
    {
      "cell_type": "markdown",
      "metadata": {
        "id": "view-in-github",
        "colab_type": "text"
      },
      "source": [
        "<a href=\"https://colab.research.google.com/github/t0m4uk1991/my-jupyter-notebook/blob/master/UAH_vs_USD_deposit.ipynb\" target=\"_parent\"><img src=\"https://colab.research.google.com/assets/colab-badge.svg\" alt=\"Open In Colab\"/></a>"
      ]
    },
    {
      "cell_type": "code",
      "metadata": {
        "id": "fQPLLFvHtpzP",
        "colab_type": "code",
        "outputId": "c9225132-9355-4d5a-fee0-603131da2bd1",
        "colab": {
          "base_uri": "https://localhost:8080/",
          "height": 922
        }
      },
      "source": [
        "import matplotlib.pyplot as plt\n",
        "import numpy as np\n",
        "\n",
        "uah_price = 24\n",
        "uah_rate = 0.135\n",
        "uah_deposit = 240_000\n",
        "\n",
        "usd_rate = 0.0175\n",
        "usd_deposit = 10_000\n",
        "\n",
        "print(\"==========================================\")\n",
        "print(\"Uah deposit:\", uah_deposit)\n",
        "print(\"Uah deposit rate:\", uah_rate)\n",
        "print(\"Usd deposit:\", usd_deposit)\n",
        "print(\"Usd deposit rate:\", usd_rate)\n",
        "print(\"==========================================\")\n",
        "\n",
        "uah_year_profit0 = uah_deposit * (1 + uah_rate)\n",
        "uah_year_profit1 = uah_deposit * (1+uah_rate)**2\n",
        "uah_year_profit2 = uah_deposit * (1+uah_rate)**3\n",
        "uah_year_profit3 = uah_deposit * (1+uah_rate)**4\n",
        "uah_year_profit4 = uah_deposit * (1+uah_rate)**5\n",
        "uah_year_profit5 = uah_deposit * (1+uah_rate)**6\n",
        "\n",
        "print(\"==========================================\")\n",
        "print(\"Uah deposit year profit:\",uah_deposit * uah_rate)\n",
        "print(\"Uah deposit profit per month:\",uah_deposit * uah_rate / 12)\n",
        "print(\"Uah deposit year profit (in USD):\",uah_deposit * uah_rate / uah_price)\n",
        "print(\"Uah deposit profit per month (in USD):\",(uah_deposit * uah_rate / 12) / uah_price)\n",
        "print(\"==========================================\")\n",
        "\n",
        "usd_year_profit0 = usd_deposit * (1 + usd_rate)\n",
        "usd_year_profit1 = usd_deposit * (1+usd_rate)**2\n",
        "usd_year_profit2 = usd_deposit * (1+usd_rate)**3\n",
        "usd_year_profit3 = usd_deposit * (1+usd_rate)**4\n",
        "usd_year_profit4 = usd_deposit * (1+usd_rate)**5\n",
        "usd_year_profit5 = usd_deposit * (1+usd_rate)**6\n",
        "\n",
        "print(\"==========================================\")\n",
        "print(\"Usd deposit year profit (in USD):\",usd_deposit * usd_rate)\n",
        "print(\"Usd deposit profit per month (in USD):\",usd_deposit * usd_rate / 12)\n",
        "print(\"Usd deposit year profit (in UAH):\",usd_deposit * usd_rate * uah_price)\n",
        "print(\"Usd deposit profit per month (in UAH):\",(usd_deposit * usd_rate / 12) * uah_price)\n",
        "print(\"==========================================\")\n",
        "\n",
        "usd_profit = [usd_year_profit0, usd_year_profit1,usd_year_profit2,usd_year_profit3,usd_year_profit4,usd_year_profit5]\n",
        "uah_profit = [uah_year_profit0, uah_year_profit1,uah_year_profit2,uah_year_profit3,uah_year_profit4,uah_year_profit5]\n",
        "\n",
        "usd_profit_uah = list(map(lambda x: x*uah_price, usd_profit))\n",
        "\n",
        "plt.plot(uah_profit, 'b',usd_profit_uah, 'r')\n",
        "plt.ylabel('profit in usd')\n",
        "plt.xlabel('years')\n",
        "plt.show()\n",
        "\n",
        "fig, axs = plt.subplots(1, 2, figsize=(10, 5))\n",
        "\n",
        "y_pos = np.arange(len(uah_profit))\n",
        "axs[0].bar(y_pos, uah_profit)\n",
        "\n",
        "y_pos = np.arange(len(usd_profit))\n",
        "axs[1].bar(y_pos, usd_profit)\n",
        "plt.show()\n",
        "\n",
        "print(usd_profit)\n",
        "print(uah_profit)"
      ],
      "execution_count": 10,
      "outputs": [
        {
          "output_type": "stream",
          "text": [
            "==========================================\n",
            "Uah deposit: 240000\n",
            "Uah deposit rate: 0.135\n",
            "Usd deposit: 10000\n",
            "Usd deposit rate: 0.0175\n",
            "==========================================\n",
            "==========================================\n",
            "Uah deposit year profit: 32400.000000000004\n",
            "Uah deposit profit per month: 2700.0000000000005\n",
            "Uah deposit year profit (in USD): 1350.0000000000002\n",
            "Uah deposit profit per month (in USD): 112.50000000000001\n",
            "==========================================\n",
            "==========================================\n",
            "Usd deposit year profit (in USD): 175.00000000000003\n",
            "Usd deposit profit per month (in USD): 14.583333333333336\n",
            "Usd deposit year profit (in UAH): 4200.000000000001\n",
            "Usd deposit profit per month (in UAH): 350.00000000000006\n",
            "==========================================\n"
          ],
          "name": "stdout"
        },
        {
          "output_type": "display_data",
          "data": {
            "image/png": "[encoded data removed]",
            "text/plain": [
              "<Figure size 432x288 with 1 Axes>"
            ]
          },
          "metadata": {
            "tags": []
          }
        },
        {
          "output_type": "display_data",
          "data": {
            "image/png": "[encoded data removed]",
            "text/plain": [
              "<Figure size 720x360 with 2 Axes>"
            ]
          },
          "metadata": {
            "tags": []
          }
        },
        {
          "output_type": "stream",
          "text": [
            "[10175.0, 10353.062500000002, 10534.241093750003, 10718.590312890628, 10906.165643366214, 11097.023542125124]\n",
            "[272400.0, 309174.0, 350912.49000000005, 398285.67615, 452054.24243025004, 513081.56515833375]\n"
          ],
          "name": "stdout"
        }
      ]
    }
  ]
}