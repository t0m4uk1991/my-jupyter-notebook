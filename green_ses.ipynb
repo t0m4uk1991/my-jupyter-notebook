{
  "nbformat": 4,
  "nbformat_minor": 0,
  "metadata": {
    "colab": {
      "name": "green_ses.ipynb",
      "provenance": [],
      "include_colab_link": true
    },
    "kernelspec": {
      "name": "python3",
      "display_name": "Python 3"
    }
  },
  "cells": [
    {
      "cell_type": "markdown",
      "metadata": {
        "id": "view-in-github",
        "colab_type": "text"
      },
      "source": [
        "<a href=\"https://colab.research.google.com/github/t0m4uk1991/my-jupyter-notebook/blob/master/green_ses.ipynb\" target=\"_parent\"><img src=\"https://colab.research.google.com/assets/colab-badge.svg\" alt=\"Open In Colab\"/></a>"
      ]
    },
    {
      "cell_type": "code",
      "metadata": {
        "id": "m4vtyahhIcuo",
        "colab_type": "code",
        "colab": {
          "base_uri": "https://localhost:8080/",
          "height": 136
        },
        "outputId": "a6333007-04f6-4e20-bd6c-4d4ffaea41dc"
      },
      "source": [
        "import matplotlib.pyplot as plt\n",
        "import numpy as np\n",
        "\n",
        "uah_price = 24\n",
        "usd_cost = 14000\n",
        "\n",
        "first_payment = 0.5 * usd_cost\n",
        "cost = 0.5 * usd_cost\n",
        "\n",
        "duration = 1\n",
        "duration_month = 12 * duration\n",
        "duration_rate = 0.0719\n",
        "\n",
        "\n",
        "loan = cost * ((1 + duration_rate) ** duration)\n",
        "loan_payment = loan / duration_month\n",
        "\n",
        "print(\"==========================================\")\n",
        "print(\"first payment:\", first_payment)\n",
        "print(\"cost:\", cost)\n",
        "print(\"loan:\", loan)\n",
        "print(\"loan payment:\", loan_payment)\n",
        "print(\"loan payment in uah:\", loan_payment * uah_price)\n",
        "\n",
        "print(\"==========================================\")\n",
        "\n"
      ],
      "execution_count": 9,
      "outputs": [
        {
          "output_type": "stream",
          "text": [
            "==========================================\n",
            "first payment: 7000.0\n",
            "cost: 7000.0\n",
            "loan: 7503.3\n",
            "loan payment: 625.275\n",
            "loan payment in uah: 15006.599999999999\n",
            "==========================================\n"
          ],
          "name": "stdout"
        }
      ]
    }
  ]
}